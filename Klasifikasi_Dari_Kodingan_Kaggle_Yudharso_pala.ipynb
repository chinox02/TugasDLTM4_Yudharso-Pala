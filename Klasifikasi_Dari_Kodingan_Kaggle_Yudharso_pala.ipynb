{
  "cells": [
    {
      "cell_type": "markdown",
      "metadata": {
        "id": "view-in-github",
        "colab_type": "text"
      },
      "source": [
        "<a href=\"https://colab.research.google.com/github/chinox02/TugasDLTM4_Yudharso-Pala/blob/main/Klasifikasi_Dari_Kodingan_Kaggle_Yudharso_pala.ipynb\" target=\"_parent\"><img src=\"https://colab.research.google.com/assets/colab-badge.svg\" alt=\"Open In Colab\"/></a>"
      ]
    },
    {
      "cell_type": "code",
      "execution_count": null,
      "metadata": {
        "id": "tWz7_xyVxlnC"
      },
      "outputs": [],
      "source": [
        "from google.colab import drive\n",
        "drive.mount('/content/drive')\n"
      ]
    },
    {
      "cell_type": "code",
      "execution_count": null,
      "metadata": {
        "id": "2ZaRrEAteSeZ"
      },
      "outputs": [],
      "source": [
        "import numpy as np\n",
        "import pandas as pd\n",
        "import os\n",
        "import cv2\n",
        "import matplotlib.pyplot as plt\n",
        "import seaborn as sns\n",
        "import tensorflow as tf\n",
        "import keras\n",
        "from tqdm import tqdm\n",
        "from keras.callbacks import EarlyStopping,ModelCheckpoint\n",
        "from sklearn.metrics import confusion_matrix , accuracy_score\n",
        "from sklearn.metrics import classification_report\n",
        "from sklearn.model_selection import train_test_split\n",
        "from sklearn.preprocessing import LabelEncoder\n",
        "import glob\n",
        "import pandas as pan\n",
        "import matplotlib.pyplot as plotter\n",
        "import warnings\n",
        "warnings.filterwarnings('ignore')"
      ]
    },
    {
      "cell_type": "code",
      "execution_count": null,
      "metadata": {
        "id": "xkNvTLlOeT6w"
      },
      "outputs": [],
      "source": [
        "image_data='/content/drive/MyDrive/datasetTM4deeplearning/dataset'\n",
        "pd.DataFrame(os.listdir(image_data),columns=['Files_Name'])"
      ]
    },
    {
      "cell_type": "code",
      "execution_count": null,
      "metadata": {
        "id": "XXyOgrOYeYUO"
      },
      "outputs": [],
      "source": [
        "files = [i for i in glob.glob(image_data + \"//*//*\")]\n",
        "np.random.shuffle(files)\n",
        "labels = [os.path.dirname(i).split(\"/\")[-1] for i in files]\n",
        "data = zip(files, labels)\n",
        "dataframe = pan.DataFrame(data, columns = [\"Image\", \"Label\"])\n",
        "dataframe"
      ]
    },
    {
      "cell_type": "code",
      "execution_count": null,
      "metadata": {
        "id": "dgZoXrRoiCbE"
      },
      "outputs": [],
      "source": [
        "files = [i for i in glob.glob(image_data + \"//*//*\")]\n",
        "np.random.shuffle(files)\n",
        "labels = [os.path.dirname(i).split(\"/\")[-1] for i in files]\n",
        "data = zip(files, labels)\n",
        "dataframe = pan.DataFrame(data, columns = [\"Image\", \"Label\"])\n",
        "dataframe"
      ]
    },
    {
      "cell_type": "code",
      "execution_count": null,
      "metadata": {
        "id": "mCFzbKH_iJI1"
      },
      "outputs": [],
      "source": [
        "sns.countplot(x = dataframe[\"Label\"])\n",
        "plotter.xticks(rotation = 0);"
      ]
    },
    {
      "cell_type": "code",
      "execution_count": null,
      "metadata": {
        "id": "BhI9aY9YiNOV"
      },
      "outputs": [],
      "source": [
        "train_data_dir =image_data\n",
        "batch_size = 64\n",
        "target_size = (224,224)\n",
        "validation_split = 0.2\n",
        "train= tf.keras.preprocessing.image_dataset_from_directory(\n",
        "    train_data_dir,\n",
        "    validation_split=validation_split,\n",
        "    subset=\"training\",\n",
        "    seed=100,\n",
        "    image_size=target_size,\n",
        "    batch_size=batch_size,\n",
        ")\n",
        "validation= tf.keras.preprocessing.image_dataset_from_directory(\n",
        "    train_data_dir,\n",
        "    validation_split=validation_split,\n",
        "    subset=\"validation\",\n",
        "    seed=200,\n",
        "    image_size=target_size,\n",
        "    batch_size=batch_size,\n",
        ")"
      ]
    },
    {
      "cell_type": "code",
      "execution_count": null,
      "metadata": {
        "id": "QK1DUhxfiN42"
      },
      "outputs": [],
      "source": [
        "train_size = len(train)\n",
        "val_size = len(validation)\n",
        "total = train_size + val_size\n",
        "\n",
        "print(f'train samples count:\\t\\t{train_size}\\t({(100 * train_size/total):.2f}%)')\n",
        "print(f'validation samples count:\\t{val_size}\\t({(100 * val_size/total):.2f}%)')\n",
        "print('================================================')\n",
        "print(f'Total:\\t\\t\\t\\t{total}\\t({(100 * total/total):.2f}%)')"
      ]
    },
    {
      "cell_type": "code",
      "execution_count": null,
      "metadata": {
        "id": "mTXxNOjLiVZT"
      },
      "outputs": [],
      "source": [
        "class_names=train.class_names\n",
        "class_names"
      ]
    },
    {
      "cell_type": "code",
      "execution_count": null,
      "metadata": {
        "id": "vxsUxwyqiXVa"
      },
      "outputs": [],
      "source": [
        "plt.figure(figsize=(15, 20))\n",
        "for images, labels in train.take(1):\n",
        "    for i in range(12):\n",
        "        ax = plt.subplot(12, 4, i + 1)\n",
        "        plt.imshow(images[i].numpy().astype(\"uint8\"))\n",
        "        plt.title(class_names[labels[i]])\n",
        "        plt.axis(\"off\")"
      ]
    },
    {
      "cell_type": "code",
      "execution_count": null,
      "metadata": {
        "id": "azGwWGiBiZlR"
      },
      "outputs": [],
      "source": [
        "base_model = tf.keras.applications.EfficientNetV2M(input_shape=(224,224,3),include_top=False,weights='imagenet')\n",
        "base_model.trainable = False\n",
        "keras_model=keras.models.Sequential()\n",
        "keras_model.add(base_model)\n",
        "keras_model.add(keras.layers.Flatten())\n",
        "keras_model.add(keras.layers.Dropout(0.5))\n",
        "keras_model.add(keras.layers.Dense(6,activation=tf.nn.softmax))\n",
        "keras_model.summary()"
      ]
    },
    {
      "cell_type": "code",
      "execution_count": null,
      "metadata": {
        "id": "pdLjNkmeicPk"
      },
      "outputs": [],
      "source": [
        "tf.keras.utils.plot_model(keras_model, to_file='model.png', show_shapes=True, show_layer_names=True,show_dtype=True,dpi=80)"
      ]
    },
    {
      "cell_type": "code",
      "execution_count": null,
      "metadata": {
        "id": "s5AUbhemieto"
      },
      "outputs": [],
      "source": [
        "checkpoint =ModelCheckpoint(\"my_keras_model.h5\", save_best_only=True)"
      ]
    },
    {
      "cell_type": "code",
      "execution_count": null,
      "metadata": {
        "id": "DT9QkGcYihH7"
      },
      "outputs": [],
      "source": [
        "early_stopping =EarlyStopping(patience=5, restore_best_weights=True)"
      ]
    },
    {
      "cell_type": "code",
      "execution_count": 35,
      "metadata": {
        "colab": {
          "base_uri": "https://localhost:8080/"
        },
        "id": "Ebi90CsizU-g",
        "outputId": "e16babe9-8ca6-40e1-f3ff-426492181bdb"
      },
      "outputs": [
        {
          "output_type": "stream",
          "name": "stdout",
          "text": [
            "Epoch 1/100\n",
            "8/8 [==============================] - 254s 26s/step - loss: 0.2266 - accuracy: 0.9417 - val_loss: 0.6485 - val_accuracy: 0.8750\n",
            "Epoch 2/100\n",
            "8/8 [==============================] - 194s 24s/step - loss: 0.2048 - accuracy: 0.9333 - val_loss: 0.6354 - val_accuracy: 0.8583\n",
            "Epoch 3/100\n",
            "8/8 [==============================] - 197s 25s/step - loss: 0.1124 - accuracy: 0.9563 - val_loss: 0.4530 - val_accuracy: 0.9083\n",
            "Epoch 4/100\n",
            "8/8 [==============================] - 196s 25s/step - loss: 0.0837 - accuracy: 0.9667 - val_loss: 0.4035 - val_accuracy: 0.9167\n",
            "Epoch 5/100\n",
            "8/8 [==============================] - 196s 25s/step - loss: 0.0945 - accuracy: 0.9688 - val_loss: 0.6742 - val_accuracy: 0.8917\n",
            "Epoch 6/100\n",
            "8/8 [==============================] - 200s 25s/step - loss: 0.1127 - accuracy: 0.9646 - val_loss: 0.4904 - val_accuracy: 0.9167\n",
            "Epoch 7/100\n",
            "8/8 [==============================] - 201s 25s/step - loss: 0.0905 - accuracy: 0.9646 - val_loss: 0.5958 - val_accuracy: 0.9083\n",
            "Epoch 8/100\n",
            "8/8 [==============================] - 195s 25s/step - loss: 0.0773 - accuracy: 0.9792 - val_loss: 0.4464 - val_accuracy: 0.9167\n",
            "Epoch 9/100\n",
            "8/8 [==============================] - 199s 25s/step - loss: 0.0873 - accuracy: 0.9708 - val_loss: 0.4860 - val_accuracy: 0.9250\n"
          ]
        }
      ],
      "source": [
        "keras_model.compile(optimizer ='Adam',loss='sparse_categorical_crossentropy', metrics=['accuracy'])\n",
        "hist=keras_model.fit_generator(train,epochs=100,validation_data=validation,callbacks=[checkpoint,early_stopping])"
      ]
    },
    {
      "cell_type": "code",
      "execution_count": 36,
      "metadata": {
        "colab": {
          "base_uri": "https://localhost:8080/"
        },
        "id": "klaCoEUdilYl",
        "outputId": "7f2a93dc-b6c1-4e71-9f9e-098a8bd28485"
      },
      "outputs": [
        {
          "output_type": "stream",
          "name": "stdout",
          "text": [
            "2/2 [==============================] - 38s 17s/step - loss: 0.4035 - accuracy: 0.9167\n",
            "Test Loss = 0.4035080671310425\n",
            "Test Accuracy = 0.9166666865348816\n"
          ]
        }
      ],
      "source": [
        "score, acc = keras_model.evaluate(validation)\n",
        "print('Test Loss =', score)\n",
        "print('Test Accuracy =', acc)"
      ]
    },
    {
      "cell_type": "code",
      "execution_count": null,
      "metadata": {
        "colab": {
          "background_save": true
        },
        "id": "AZxwTgihioRD"
      },
      "outputs": [],
      "source": [
        "hist_=pd.DataFrame(hist.history)\n",
        "hist_"
      ]
    },
    {
      "cell_type": "code",
      "execution_count": null,
      "metadata": {
        "colab": {
          "background_save": true
        },
        "id": "HaOPGUJKiqJB"
      },
      "outputs": [],
      "source": [
        "plt.figure(figsize=(15,5))\n",
        "plt.subplot(1,2,1)\n",
        "plt.plot(hist_['loss'],label='Train_Loss')\n",
        "plt.plot(hist_['val_loss'],label='Validation_Loss')\n",
        "plt.title('Train_Loss & Validation_Loss',fontsize=20)\n",
        "plt.legend()\n",
        "plt.subplot(1,2,2)\n",
        "plt.plot(hist_['accuracy'],label='Train_Accuracy')\n",
        "plt.plot(hist_['val_accuracy'],label='Validation_Accuracy')\n",
        "plt.title('Train_Accuracy & Validation_Accuracy',fontsize=20)\n",
        "plt.legend()"
      ]
    }
  ],
  "metadata": {
    "colab": {
      "provenance": [],
      "authorship_tag": "ABX9TyO+jJaHWTVa+2zsZhRwalen",
      "include_colab_link": true
    },
    "kernelspec": {
      "display_name": "Python 3",
      "name": "python3"
    },
    "language_info": {
      "name": "python"
    }
  },
  "nbformat": 4,
  "nbformat_minor": 0
}